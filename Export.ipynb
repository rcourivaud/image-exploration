{
 "cells": [
  {
   "cell_type": "code",
   "execution_count": 4,
   "metadata": {},
   "outputs": [],
   "source": [
    "from __future__ import print_function\n",
    "import argparse\n",
    "import cv2\n",
    "import lmdb\n",
    "import numpy\n",
    "import os\n",
    "import random\n",
    "from os.path import exists, join\n"
   ]
  },
  {
   "cell_type": "code",
   "execution_count": 5,
   "metadata": {},
   "outputs": [],
   "source": [
    "def export_images(db_path, out_dir, category, flat=False, limit=-1):\n",
    "    print('Exporting', db_path, 'to', out_dir)\n",
    "    env = lmdb.open(db_path, map_size=1099511627776,\n",
    "                    max_readers=100, readonly=True)\n",
    "    count = 0\n",
    "    print(out_dir)\n",
    "    with env.begin(write=False) as txn:\n",
    "        cursor = txn.cursor()\n",
    "        for key, val in cursor:\n",
    "            valid_or_train = \"train\" if random.random() <0.7 else \"valid\"\n",
    "            image_out_dir = \"/\".join([out_dir, valid_or_train, category])\n",
    "            if not exists(image_out_dir):\n",
    "                os.makedirs(image_out_dir)\n",
    "            image_out_path = join(image_out_dir, key.decode() + '.webp')\n",
    "            with open(image_out_path, 'wb') as fp:\n",
    "                fp.write(val)\n",
    "            count += 1\n",
    "            if count == limit:\n",
    "                break\n",
    "            if count % 10000 == 0:\n",
    "                print('Finished', count, 'images')"
   ]
  },
  {
   "cell_type": "code",
   "execution_count": 6,
   "metadata": {},
   "outputs": [
    {
     "name": "stdout",
     "output_type": "stream",
     "text": [
      "Exporting ../data/dining_room_train_lmdb/ to ../data/dataset\n",
      "../data/dataset\n",
      "Finished 10000 images\n",
      "Finished 20000 images\n",
      "Finished 30000 images\n",
      "Finished 40000 images\n",
      "Finished 50000 images\n",
      "Finished 60000 images\n",
      "Finished 70000 images\n",
      "Finished 80000 images\n",
      "Finished 90000 images\n",
      "Finished 100000 images\n",
      "Finished 110000 images\n",
      "Finished 120000 images\n",
      "Finished 130000 images\n",
      "Finished 140000 images\n",
      "Finished 150000 images\n",
      "Finished 160000 images\n",
      "Finished 170000 images\n",
      "Finished 180000 images\n",
      "Finished 190000 images\n"
     ]
    }
   ],
   "source": [
    "# export_images(\"../data/bedroom_train_lmdb/\", \"../data/dataset\", \"bed_room\", limit=200000)\n",
    "# export_images(\"../data/living_room_train_lmdb/\", \"../data/dataset\", \"living_room\", limit=200000)\n",
    "export_images(\"../data/dining_room_train_lmdb/\", \"../data/dataset\", \"dining_room\", limit=200000)"
   ]
  },
  {
   "cell_type": "code",
   "execution_count": 7,
   "metadata": {},
   "outputs": [
    {
     "name": "stdout",
     "output_type": "stream",
     "text": [
      "Exporting ../data/kitchen_train_lmdb/ to ../data/dataset\n",
      "../data/dataset\n",
      "Finished 10000 images\n",
      "Finished 20000 images\n",
      "Finished 30000 images\n",
      "Finished 40000 images\n",
      "Finished 50000 images\n",
      "Finished 60000 images\n",
      "Finished 70000 images\n",
      "Finished 80000 images\n",
      "Finished 90000 images\n",
      "Finished 100000 images\n",
      "Finished 110000 images\n",
      "Finished 120000 images\n",
      "Finished 130000 images\n",
      "Finished 140000 images\n",
      "Finished 150000 images\n",
      "Finished 160000 images\n",
      "Finished 170000 images\n",
      "Finished 180000 images\n",
      "Finished 190000 images\n"
     ]
    }
   ],
   "source": [
    "export_images(\"../data/kitchen_train_lmdb/\", \"../data/dataset\", \"kitchen\", limit=200000)"
   ]
  },
  {
   "cell_type": "code",
   "execution_count": 8,
   "metadata": {},
   "outputs": [
    {
     "name": "stdout",
     "output_type": "stream",
     "text": [
      "Exporting ../data/living_room_train_lmdb/ to ../data/dataset\n",
      "../data/dataset\n",
      "Finished 10000 images\n",
      "Finished 20000 images\n",
      "Finished 30000 images\n",
      "Finished 40000 images\n",
      "Finished 50000 images\n",
      "Finished 60000 images\n",
      "Finished 70000 images\n",
      "Finished 80000 images\n",
      "Finished 90000 images\n",
      "Finished 100000 images\n",
      "Finished 110000 images\n",
      "Finished 120000 images\n",
      "Finished 130000 images\n",
      "Finished 140000 images\n",
      "Finished 150000 images\n",
      "Finished 160000 images\n",
      "Finished 170000 images\n",
      "Finished 180000 images\n",
      "Finished 190000 images\n"
     ]
    }
   ],
   "source": [
    "export_images(\"../data/living_room_train_lmdb/\", \"../data/dataset\", \"living_room\", limit=200000)"
   ]
  },
  {
   "cell_type": "code",
   "execution_count": null,
   "metadata": {},
   "outputs": [],
   "source": []
  }
 ],
 "metadata": {
  "kernelspec": {
   "display_name": "Environment (conda_pytorch_p36)",
   "language": "python",
   "name": "conda_pytorch_p36"
  },
  "language_info": {
   "codemirror_mode": {
    "name": "ipython",
    "version": 3
   },
   "file_extension": ".py",
   "mimetype": "text/x-python",
   "name": "python",
   "nbconvert_exporter": "python",
   "pygments_lexer": "ipython3",
   "version": "3.6.5"
  }
 },
 "nbformat": 4,
 "nbformat_minor": 2
}
